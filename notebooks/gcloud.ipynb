{
 "cells": [
  {
   "cell_type": "code",
   "execution_count": 2,
   "id": "1f3a8491-75e4-4f15-a3d6-096a878f2fc0",
   "metadata": {},
   "outputs": [
    {
     "name": "stdout",
     "output_type": "stream",
     "text": [
      "[core]\n",
      "account = karthikp@gmail.com\n",
      "disable_usage_reporting = True\n",
      "project = kp-langchain-test-2\n",
      "\n",
      "Your active configuration is: [default]\n"
     ]
    }
   ],
   "source": [
    "!gcloud config list"
   ]
  },
  {
   "cell_type": "code",
   "execution_count": 4,
   "id": "bf0d6507-1529-4b16-a3c7-be3a0f111895",
   "metadata": {},
   "outputs": [
    {
     "name": "stdout",
     "output_type": "stream",
     "text": [
      "PROJECT_ID               NAME                 PROJECT_NUMBER\n",
      "festive-oxide-424409-f8  My First Project     667386561061\n",
      "kp-langchain-test-2      kp-langchain-test-2  862299437714\n"
     ]
    }
   ],
   "source": [
    "!gcloud projects list"
   ]
  },
  {
   "cell_type": "code",
   "execution_count": 5,
   "id": "51b487e9-de19-497e-bf18-2cbc6c7eb05f",
   "metadata": {},
   "outputs": [],
   "source": [
    "PROJECT_ID = \"kp-langchain-test-2\"\n",
    "REGION = \"asia-south1\""
   ]
  },
  {
   "cell_type": "code",
   "execution_count": 6,
   "id": "6b277792-c1c4-40be-92ff-87b3eaa1801b",
   "metadata": {},
   "outputs": [
    {
     "name": "stdout",
     "output_type": "stream",
     "text": [
      "Updated property [core/project].\n"
     ]
    }
   ],
   "source": [
    "!gcloud config set project \"kp-langchain-test-2\""
   ]
  },
  {
   "cell_type": "code",
   "execution_count": 10,
   "id": "75a9af0f-22d4-4d53-b58f-150950c8cb07",
   "metadata": {},
   "outputs": [
    {
     "name": "stdout",
     "output_type": "stream",
     "text": [
      "\u001b[1;31mERROR:\u001b[0m (gcloud) Invalid choice: 'application-default'.\n",
      "Maybe you meant:\n",
      "  gcloud app\n",
      "\n",
      "To search the help text of gcloud commands, run:\n",
      "  gcloud help -- SEARCH_TERMS\n"
     ]
    }
   ],
   "source": [
    "!gcloud application-default"
   ]
  },
  {
   "cell_type": "code",
   "execution_count": null,
   "id": "06e5fbe2-1f34-4c80-9e6a-c0e4137f66d9",
   "metadata": {},
   "outputs": [],
   "source": []
  }
 ],
 "metadata": {
  "kernelspec": {
   "display_name": "Python 3 (ipykernel)",
   "language": "python",
   "name": "python3"
  },
  "language_info": {
   "codemirror_mode": {
    "name": "ipython",
    "version": 3
   },
   "file_extension": ".py",
   "mimetype": "text/x-python",
   "name": "python",
   "nbconvert_exporter": "python",
   "pygments_lexer": "ipython3",
   "version": "3.11.5"
  }
 },
 "nbformat": 4,
 "nbformat_minor": 5
}
